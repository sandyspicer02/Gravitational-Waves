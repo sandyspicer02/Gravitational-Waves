{
 "cells": [
  {
   "cell_type": "markdown",
   "metadata": {},
   "source": [
    "# SIGNAL PROCESSING WITH GW150914 OPEN DATA \n",
    "\n",
    "Welcome! This ipython notebook (or associated python script GW150914_tutorial.py ) will go through some typical signal processing tasks on strain time-series data associated with the LIGO GW150914 data release from the LIGO Open Science Center (LOSC):\n",
    "\n",
    "* https://losc.ligo.org/events/GW150914/\n",
    "\n",
    "* View the tutorial as a web page - https://losc.ligo.org/s/events/GW150914/GW150914_tutorial.html/\n",
    "* Download the tutorial as a python script - https://losc.ligo.org/s/events/GW150914/GW150914_tutorial.py/\n",
    "* Download the tutorial as iPython Notebook - https://losc.ligo.org/s/events/GW150914/GW150914_tutorial.ipynb/\n",
    "\n",
    "To begin, download the ipython notebook, readligo.py, and the data files listed below, into a directory / folder, then run it. Or you can run the python script GW150914_tutorial.py. You will need the python packages: numpy, scipy, matplotlib, h5py.\n",
    "\n",
    "On Windows, or if you prefer, you can use a python development environment such as Anaconda (https://www.continuum.io/why-anaconda) or Enthought Canopy (https://www.enthought.com/products/canopy/). \n",
    "\n",
    "Questions, comments, suggestions, corrections, etc: email losc@ligo.caltech.edu\n",
    "\n",
    "v20160208b"
   ]
  },
  {
   "cell_type": "markdown",
   "metadata": {},
   "source": [
    "## Intro to signal processing\n",
    "\n",
    "This tutorial assumes that you know python well enough. \n",
    "\n",
    "If you know how to use \"ipython notebook\", use the GW150914_tutorial.ipynb file. Else, you can use the GW150914_tutorial.py script.\n",
    "\n",
    "This tutorial assumes that you know a bit about signal processing of digital time series data (or want to learn!). This includes power spectral densities, spectrograms, digital filtering, whitening, audio manipulation. This is a vast and complex set of topics, but we will cover many of the basics in this tutorial.\n",
    "\n",
    "If you are a beginner, here are some resources from the web:\n",
    "* http://101science.com/dsp.htm\n",
    "* https://georgemdallas.wordpress.com/2014/05/14/wavelets-4-dummies-signal-processing-fourier-transforms-and-heisenberg/\n",
    "* https://en.wikipedia.org/wiki/Signal_processing\n",
    "* https://en.wikipedia.org/wiki/Spectral_density\n",
    "* https://en.wikipedia.org/wiki/Spectrogram\n",
    "* http://greenteapress.com/thinkdsp/\n",
    "* https://en.wikipedia.org/wiki/Digital_filter\n",
    "\n",
    "And, well, lots more - google it!"
   ]
  },
  {
   "cell_type": "markdown",
   "metadata": {},
   "source": [
    "## Download the data\n",
    "\n",
    "* Download the data files from LOSC:\n",
    "* We will use the hdf5 files, both H1 and L1, with durations of 32 and 4096 seconds around GW150914, sampled at 16384 and 4096 Hz :\n",
    "  * https://losc.ligo.org/s/events/GW150914/H-H1_LOSC_4_V1-1126259446-32.hdf5\n",
    "  * https://losc.ligo.org/s/events/GW150914/L-L1_LOSC_4_V1-1126259446-32.hdf5\n",
    "  * https://losc.ligo.org/s/events/GW150914/H-H1_LOSC_16_V1-1126259446-32.hdf5\n",
    "  * https://losc.ligo.org/s/events/GW150914/L-L1_LOSC_16_V1-1126259446-32.hdf5\n",
    "  * https://losc.ligo.org/s/events/GW150914/GW150914_4_NR_waveform.txt\n",
    "* Download the python functions to read the data: https://losc.ligo.org/s/sample_code/readligo.py\n",
    "* From a unix/mac-osx command line, you can use wget; for example, \n",
    "  * wget https://losc.ligo.org/s/events/GW150914/H-H1_LOSC_4_V1-1126257414-4096.hdf5\n",
    "* Put these files in your current directory / folder. Don't mix any other LOSC data files in this directory, or readligo.py may get confused.\n",
    "\n",
    "Here, \n",
    "* \"H-H1\" means that the data come from the LIGO Hanford Observatory site and the LIGO \"H1\" detector; \n",
    "* the \"_4_\" means the strain time-series data are (down-)sampled from 16384 Hz to 4096 Hz;\n",
    "* the \"V1\" means version 1 of this data release;\n",
    "* \"1126257414-4096\" means the data starts at GPS time 1126257414 (Mon Sep 14 09:16:37 GMT 2015), duration 4096 seconds;\n",
    "  * NOTE: GPS time is number of seconds since Jan 6, 1980 GMT. See http://www.oc.nps.edu/oc2902w/gps/timsys.html or https://losc.ligo.org/gps/ \n",
    "* the filetype \"hdf5\" means the data are in hdf5 format:\n",
    "https://www.hdfgroup.org/HDF5/\n",
    "\n",
    "Note that the the 4096 second long files at 16384 Hz sampling rate are fairly big files (125 MB). \n",
    "You won't need them for this tutorial:\n",
    "* https://losc.ligo.org/s/events/GW150914/H-H1_LOSC_4_V1-1126257414-4096.hdf5\n",
    "* https://losc.ligo.org/s/events/GW150914/L-L1_LOSC_4_V1-1126257414-4096.hdf5\n",
    "* https://losc.ligo.org/s/events/GW150914/H-H1_LOSC_16_V1-1126257414-4096.hdf5\n",
    "* https://losc.ligo.org/s/events/GW150914/L-L1_LOSC_16_V1-1126257414-4096.hdf5\n"
   ]
  },
  {
   "cell_type": "code",
   "execution_count": 2,
   "metadata": {
    "collapsed": false
   },
   "outputs": [],
   "source": [
    "# Standard python numerical analysis imports:\n",
    "import numpy as np\n",
    "from scipy import signal\n",
    "from scipy.interpolate import interp1d\n",
    "from scipy.signal import butter, filtfilt, iirdesign, zpk2tf, freqz\n",
    "\n",
    "# the ipython magic below must be commented out in the .py file, since it doesn't work.\n",
    "%matplotlib inline\n",
    "%config InlineBackend.figure_format = 'retina'\n",
    "import matplotlib.pyplot as plt\n",
    "import matplotlib.mlab as mlab\n",
    "import h5py\n",
    "\n",
    "# LIGO-specific readligo.py \n",
    "import readligo as rl"
   ]
  },
  {
   "cell_type": "markdown",
   "metadata": {},
   "source": [
    "**NOTE** that in general, LIGO strain time series data has gaps (filled with NaNs) when the detectors are not taking valid (\"science quality\") data. Analyzing these data requires the user to loop over \"segments\" of valid data stretches. In https://losc.ligo.org/segments/ we provide example code to do this. \n",
    "\n",
    "**However**, the 4096 seconds of released data around GW150914 is one unbroken segment, with no gaps. So for now, we will read it all in and treat it as one valid data segment, ignoring the extra complexity mentioned above.\n",
    "\n",
    "**This won't work** for other LOSC data releases! See https://losc.ligo.org/segments/ for a more general way to find valid data segments in LOSC data."
   ]
  },
  {
   "cell_type": "code",
   "execution_count": 5,
   "metadata": {
    "collapsed": false
   },
   "outputs": [],
   "source": [
    "#----------------------------------------------------------------\n",
    "# Load LIGO data from a single file\n",
    "#----------------------------------------------------------------\n",
    "# First from H1\n",
    "fn_H1 = 'H-H1_LOSC_4_V1-1126259446-32.hdf5'\n",
    "strain_H1, time_H1, chan_dict_H1 = rl.loaddata(fn_H1, 'H1')\n",
    "# and then from L1\n",
    "fn_L1 = 'L-L1_LOSC_4_V1-1126259446-32.hdf5'\n",
    "strain_L1, time_L1, chan_dict_L1 = rl.loaddata(fn_L1, 'L1')\n",
    "\n",
    "# sampling rate:\n",
    "fs = 4096\n",
    "# both H1 and L1 will have the same time vector, so:\n",
    "time = time_H1\n",
    "# the time sample interval (uniformly sampled!)\n",
    "dt = time[1] - time[0]"
   ]
  },
  {
   "cell_type": "markdown",
   "metadata": {},
   "source": [
    "## Adding a numerical relativity template\n",
    "\n",
    "Now let's also read in a theoretical (numerical relativity) template, \n",
    "generated with parameters favored by the output from the GW150914 parameter estimation (see the GW150914 detection paper, https://dcc.ligo.org/P150914/public ).\n",
    "\n",
    "This NR template corresponds to the signal expected from a pair of black holes with masses of around 36 and 29 solar masses, merging into a single black hole of 62 solar masses, at a distance of around 410 Mpc. \n",
    "* One solar mass = Mass of the sun (1.989 × 10^30 kg)\n",
    "* Parsec = 3.3 light years away\n",
    "\n",
    "You can fetch the template time series from the following URL, and put it in your working directory / folder:\n",
    "* https://losc.ligo.org/s/events/GW150914/GW150914_4_NR_waveform.txt\n",
    "\n",
    "\n"
   ]
  },
  {
   "cell_type": "code",
   "execution_count": 6,
   "metadata": {
    "collapsed": false
   },
   "outputs": [],
   "source": [
    "# read in the NR template\n",
    "NRtime, NR_H1 = np.genfromtxt('GW150914_4_NR_waveform.txt').transpose()"
   ]
  },
  {
   "cell_type": "markdown",
   "metadata": {},
   "source": [
    "## First look at the data from H1 and L1"
   ]
  },
  {
   "cell_type": "code",
   "execution_count": 7,
   "metadata": {
    "collapsed": false
   },
   "outputs": [
    {
     "name": "stdout",
     "output_type": "stream",
     "text": [
      "  time_H1: len, min, mean, max =  131072 1126259446.0 1126259462.0 1126259478.0\n",
      "strain_H1: len, min, mean, max =  131072 -7.11996338709e-19 8.73279794057e-23 7.71483633765e-19\n",
      "strain_L1: len, min, mean, max =  131072 -2.6788089173e-18 -1.82870749189e-18 -7.69266177024e-19\n",
      "H1     DATA: len, min, mean, max =  32 1 1.0 1\n",
      "H1 CBC_CAT1: len, min, mean, max =  32 1 1.0 1\n",
      "H1 CBC_CAT2: len, min, mean, max =  32 1 1.0 1\n",
      "L1     DATA: len, min, mean, max =  32 1 1.0 1\n",
      "L1 CBC_CAT1: len, min, mean, max =  32 1 1.0 1\n",
      "L1 CBC_CAT2: len, min, mean, max =  32 1 1.0 1\n",
      "In both H1 and L1, all 32 seconds of data are present (DATA=1), \n",
      "and all pass data quality (CBC_CAT1=1 and CBC_CAT2=1).\n"
     ]
    }
   ],
   "source": [
    "# First, let's look at the data and print out some stuff:\n",
    "\n",
    "# this doesn't seem to work for scientific notation:\n",
    "# np.set_printoptions(precision=4)\n",
    "\n",
    "print '  time_H1: len, min, mean, max = ', \\\n",
    "   len(time_H1), time_H1.min(), time_H1.mean(), time_H1.max()\n",
    "print 'strain_H1: len, min, mean, max = ', \\\n",
    "   len(strain_H1), strain_H1.min(),strain_H1.mean(),strain_H1.max()\n",
    "print 'strain_L1: len, min, mean, max = ', \\\n",
    "   len(strain_L1), strain_L1.min(),strain_L1.mean(),strain_L1.max()\n",
    "    \n",
    "#What's in chan_dict? See https://losc.ligo.org/archive/dataset/GW150914/\n",
    "bits = chan_dict_H1['DATA']\n",
    "print 'H1     DATA: len, min, mean, max = ', len(bits), bits.min(),bits.mean(),bits.max()\n",
    "bits = chan_dict_H1['CBC_CAT1']\n",
    "print 'H1 CBC_CAT1: len, min, mean, max = ', len(bits), bits.min(),bits.mean(),bits.max()\n",
    "bits = chan_dict_H1['CBC_CAT2']\n",
    "print 'H1 CBC_CAT2: len, min, mean, max = ', len(bits), bits.min(),bits.mean(),bits.max()\n",
    "bits = chan_dict_L1['DATA']\n",
    "print 'L1     DATA: len, min, mean, max = ', len(bits), bits.min(),bits.mean(),bits.max()\n",
    "bits = chan_dict_L1['CBC_CAT1']\n",
    "print 'L1 CBC_CAT1: len, min, mean, max = ', len(bits), bits.min(),bits.mean(),bits.max()\n",
    "bits = chan_dict_L1['CBC_CAT2']\n",
    "print 'L1 CBC_CAT2: len, min, mean, max = ', len(bits), bits.min(),bits.mean(),bits.max()\n",
    "print 'In both H1 and L1, all 32 seconds of data are present (DATA=1), '\n",
    "print \"and all pass data quality (CBC_CAT1=1 and CBC_CAT2=1).\""
   ]
  },
  {
   "cell_type": "code",
   "execution_count": 8,
   "metadata": {
    "collapsed": false
   },
   "outputs": [
    {
     "data": {
      "image/png": "[encoded data removed]",
      "text/plain": [
       "<matplotlib.figure.Figure at 0x10ea88f90>"
      ]
     },
     "metadata": {
      "image/png": {
       "height": 280,
       "width": 392
      }
     },
     "output_type": "display_data"
    }
   ],
   "source": [
    "# plot +- 5 seconds around the event:\n",
    "tevent = 1126259462.422         # Mon Sep 14 09:50:45 GMT 2015 \n",
    "deltat = 5.                     # seconds around the event\n",
    "# index into the strain time series for this time interval:\n",
    "indxt = np.where((time_H1 >= tevent-deltat) & (time_H1 < tevent+deltat))\n",
    "\n",
    "plt.figure()\n",
    "plt.plot(time_H1[indxt]-tevent,strain_H1[indxt],'r',label='H1 strain')\n",
    "plt.plot(time_L1[indxt]-tevent,strain_L1[indxt],'g',label='L1 strain')\n",
    "plt.xlabel('time (s) since '+str(tevent))\n",
    "plt.ylabel('strain')\n",
    "plt.legend(loc='lower right')\n",
    "plt.title('Advanced LIGO strain data near GW150914')\n",
    "plt.savefig('GW150914_strain.png')"
   ]
  },
  {
   "cell_type": "markdown",
   "metadata": {},
   "source": [
    "The data are dominated by **low frequency noise**; there is no way to see a signal here, without some signal processing.\n",
    "\n",
    "There are very low frequency oscillations that are putting the mean of the L1 strain at -2.0e-18 at the time around this event, so it appears offset from the H1 strain. These low frequency oscillations are essentially ignored in LIGO data analysis (see bandpassing, below).\n",
    "\n",
    "We will be \"whitening\" the data, below. "
   ]
  },
  {
   "cell_type": "markdown",
   "metadata": {},
   "source": [
    "## Data in the Fourier domain - ASDs\n",
    "\n",
    "Plotting these data in the Fourier domain gives us an idea of the frequency content of the data. A way to visualize the frequency content of the data is to plot the amplitude spectral density, ASD.\n",
    "\n",
    "The ASDs are the square root of the power spectral densities (PSDs), which are averages of the square of the fast fourier transforms (FFTs) of the data.\n",
    "\n",
    "They are an estimate of the \"strain-equivalent noise\" of the detectors versus frequency,\n",
    "which limit the ability of the detectors to identify GW signals.\n",
    "\n",
    "They are in units of strain/rt(Hz).\n",
    "So, if you want to know the root-mean-square (rms) strain noise in a frequency band,\n",
    "integrate (sum) the squares of the ASD over that band, then take the square-root.\n",
    "\n",
    "There's a signal in these data! \n",
    "For the moment, let's ignore that, and assume it's all noise."
   ]
  },
  {
   "cell_type": "code",
   "execution_count": null,
   "metadata": {
    "collapsed": false
   },
   "outputs": [],
   "source": [
    "# number of sample for the fast fourier transform:\n",
    "NFFT = 1*fs\n",
    "fmin = 10\n",
    "fmax = 2000\n",
    "Pxx_H1, freqs = mlab.psd(strain_H1, Fs = fs, NFFT = NFFT)\n",
    "Pxx_L1, freqs = mlab.psd(strain_L1, Fs = fs, NFFT = NFFT)\n",
    "\n",
    "# We will use interpolations of the ASDs computed above for whitening:\n",
    "psd_H1 = interp1d(freqs, Pxx_H1)\n",
    "psd_L1 = interp1d(freqs, Pxx_L1)\n",
    "\n",
    "# plot the ASDs:\n",
    "plt.figure()\n",
    "plt.loglog(freqs, np.sqrt(Pxx_H1),'r',label='H1 strain')\n",
    "plt.loglog(freqs, np.sqrt(Pxx_L1),'g',label='L1 strain')\n",
    "plt.axis([fmin, fmax, 1e-24, 1e-19])\n",
    "plt.grid('on')\n",
    "plt.ylabel('ASD (strain/rtHz)')\n",
    "plt.xlabel('Freq (Hz)')\n",
    "plt.legend(loc='upper center')\n",
    "plt.title('Advanced LIGO strain data near GW150914')\n",
    "plt.savefig('GW150914_ASDs.png')"
   ]
  },
  {
   "cell_type": "markdown",
   "metadata": {},
   "source": [
    "NOTE that we only plot the data between fmin = 10 Hz and fmax = 2000 Hz.\n",
    "\n",
    "Below fmin, the data **are not properly calibrated**. That's OK, because the noise is so high below fmin that LIGO cannot sense gravitational wave strain from astrophysical sources in that band.\n",
    "\n",
    "The sample rate is fs = 4096 Hz (2^12 Hz), so the data cannot capture frequency content above the Nyquist frequency = fs/2 = 2048 Hz. That's OK, because GW150914 only has detectable frequency content in the range 20 Hz - 300 Hz.\n",
    "\n",
    "You can see strong spectral lines in the data; they are all of instrumental origin. Some are engineered into the detectors (mirror suspension resonances at ~500 Hz and harmonics, calibration lines, control dither lines, etc) and some (60 Hz and harmonics) are unwanted. We'll return to these, later.\n",
    "\n",
    "You can't see the signal in this plot, since it is relatively weak and less than a second long, while this plot averages over 32 seconds of data. So this plot is entirely dominated by instrumental noise.\n",
    "\n",
    "Later on in this tutorial, we'll look at the data sampled at the full 16384 Hz (2^14 Hz)."
   ]
  },
  {
   "cell_type": "markdown",
   "metadata": {},
   "source": [
    "## Whitening\n",
    "\n",
    "From the ASD above, we can see that the data are very strongly \"colored\" - noise fluctuations are much larger at low and high frequencies and near spectral lines, reaching a roughly flat (\"white\") minimum in the band around 80 to 300 Hz.\n",
    "\n",
    "We can \"whiten\" the data (dividing it by the noise amplitude spectrum, in the fourier domain), suppressing the extra noise at low frequencies and at the spectral lines, to better see the weak signals in the most sensitive band.\n",
    "\n",
    "Whitening is always one of the first steps in astrophysical data analysis (searches, parameter estimation).\n",
    "Whitening requires no prior knowledge of spectral lines, etc; only the data are needed.\n",
    "\n",
    "The resulting time series is no longer in units of strain; now in units of \"sigmas\" away from the mean."
   ]
  },
  {
   "cell_type": "code",
   "execution_count": null,
   "metadata": {
    "collapsed": true
   },
   "outputs": [],
   "source": [
    "# function to writen data\n",
    "def whiten(strain, interp_psd, dt):\n",
    "    Nt = len(strain)\n",
    "    freqs = np.fft.rfftfreq(Nt, dt)\n",
    "\n",
    "    # whitening: transform to freq domain, divide by asd, then transform back, \n",
    "    # taking care to get normalization right.\n",
    "    hf = np.fft.rfft(strain)\n",
    "    white_hf = hf / (np.sqrt(interp_psd(freqs) /dt/2.))\n",
    "    white_ht = np.fft.irfft(white_hf, n=Nt)\n",
    "    return white_ht\n",
    "\n",
    "# now whiten the data from H1 and L1, and also the NR template:\n",
    "strain_H1_whiten = whiten(strain_H1,psd_H1,dt)\n",
    "strain_L1_whiten = whiten(strain_L1,psd_L1,dt)\n",
    "NR_H1_whiten = whiten(NR_H1,psd_H1,dt)"
   ]
  },
  {
   "cell_type": "markdown",
   "metadata": {},
   "source": [
    "Now plot the whitened strain data, along with the best-fit numerical relativity (NR) template.\n",
    "\n",
    "To get rid of remaining high frequency noise, we will also bandpass the data (see bandpassing, below)."
   ]
  },
  {
   "cell_type": "code",
   "execution_count": null,
   "metadata": {
    "collapsed": false
   },
   "outputs": [],
   "source": [
    "# We need to suppress the high frequencies with some bandpassing:\n",
    "bb, ab = butter(4, [20.*2./fs, 300.*2./fs], btype='band')\n",
    "strain_H1_whitenbp = filtfilt(bb, ab, strain_H1_whiten)\n",
    "strain_L1_whitenbp = filtfilt(bb, ab, strain_L1_whiten)\n",
    "NR_H1_whitenbp = filtfilt(bb, ab, NR_H1_whiten)\n",
    "\n",
    "# plot the data after whitening:\n",
    "# first, shift L1 by 7 ms, and invert. See the GW150914 detection paper for why!\n",
    "strain_L1_shift = -np.roll(strain_L1_whitenbp,int(0.007*fs))\n",
    "\n",
    "plt.figure()\n",
    "plt.plot(time-tevent,strain_H1_whitenbp,'r',label='H1 strain')\n",
    "plt.plot(time-tevent,strain_L1_shift,'g',label='L1 strain')\n",
    "plt.plot(NRtime+0.002,NR_H1_whitenbp,'k',label='matched NR waveform')\n",
    "plt.xlim([-0.1,0.05])\n",
    "plt.ylim([-4,4])\n",
    "plt.xlabel('time (s) since '+str(tevent))\n",
    "plt.ylabel('whitented strain')\n",
    "plt.legend(loc='lower left')\n",
    "plt.title('Advanced LIGO WHITENED strain data near GW150914')\n",
    "plt.savefig('GW150914_strain_whitened.png')"
   ]
  },
  {
   "cell_type": "markdown",
   "metadata": {},
   "source": [
    "The signal is now clearly visible in the whitened and bandpassed data. The \"DC\" offset between H1 and L1 data visible in the first plot is no longer visible here; the bandpassing cuts off frequency components below around 20 Hz and above 300 Hz. \n",
    "\n",
    "The signal is visible as an oscillation sweeping from low to high frequency from -0.10 seconds to 0, then damping down into the random noise. \n",
    "\n",
    "The signal looks roughly the same in both detectors. We had to shift the L1 data by 7 ms to get it to line up with the data from H1, because the source is roughly in the direction of the line connecting H1 to L1, and the wave travels at the speed of light, so it hits L1 7 ms earlier. Also, the orientation of L1 with respect to H1 means that we have to flip the sign of the signal in L1 for it to match the signal in H1.\n",
    "\n",
    "It's exactly the kind of signal we expect from the inspiral, merger and ringdown of two massive black holes, as evidenced by the good match with the numerical relativity (NR) waveform, in black.\n",
    "\n",
    "LIGO uses a rather elaborate software suite to match the data against a family of such signal waveforms (\"templates\"), to find the best match. This procedure helps LIGO to \"optimally\" separate signals from instrumental noise, and to infer the parameters of the source (masses, spins, sky location, orbit orientation, etc) from the best match templates."
   ]
  },
  {
   "cell_type": "markdown",
   "metadata": {},
   "source": [
    "## Spectrograms\n",
    "\n",
    "Now let's plot a short time-frequency spectrogram around GW150914:"
   ]
  },
  {
   "cell_type": "code",
   "execution_count": null,
   "metadata": {
    "collapsed": false
   },
   "outputs": [],
   "source": [
    "tevent = 1126259462.422         # Mon Sep 14 09:50:45 GMT 2015 \n",
    "deltat = 10.                    # seconds around the event\n",
    "# index into the strain time series for this time interval:\n",
    "indxt = np.where((time_H1 >= tevent-deltat) & (time_H1 < tevent+deltat))\n",
    "\n",
    "# pick a shorter FTT time interval, like 1/8 of a second:\n",
    "NFFT = fs/8\n",
    "# and with a lot of overlap, to resolve short-time features:\n",
    "NOVL = NFFT*15/16\n",
    "# and choose a window that minimizes \"spectral leakage\" \n",
    "# (https://en.wikipedia.org/wiki/Spectral_leakage)\n",
    "window = np.blackman(NFFT)\n",
    "\n",
    "# the right colormap is all-important! See:\n",
    "# http://matplotlib.org/examples/color/colormaps_reference.html\n",
    "# viridis seems to be the best for our purposes, but it's new; if you don't have it, you can settle for ocean.\n",
    "spec_cmap='viridis'\n",
    "#spec_cmap='ocean'\n",
    "\n",
    "# Plot the H1 spectrogram:\n",
    "plt.figure()\n",
    "spec_H1, freqs, bins, im = plt.specgram(strain_H1[indxt], NFFT=NFFT, Fs=fs, window=window, \n",
    "                                        noverlap=NOVL, cmap=spec_cmap, xextent=[-deltat,deltat])\n",
    "plt.xlabel('time (s) since '+str(tevent))\n",
    "plt.ylabel('Frequency (Hz)')\n",
    "plt.colorbar()\n",
    "plt.axis([-deltat, deltat, 0, 2000])\n",
    "plt.title('aLIGO H1 strain data near GW150914')\n",
    "plt.savefig('GW150914_H1_spectrogram.png')\n",
    "\n",
    "# Plot the L1 spectrogram:\n",
    "plt.figure()\n",
    "spec_H1, freqs, bins, im = plt.specgram(strain_L1[indxt], NFFT=NFFT, Fs=fs, window=window, \n",
    "                                        noverlap=NOVL, cmap=spec_cmap, xextent=[-deltat,deltat])\n",
    "plt.xlabel('time (s) since '+str(tevent))\n",
    "plt.ylabel('Frequency (Hz)')\n",
    "plt.colorbar()\n",
    "plt.axis([-deltat, deltat, 0, 2000])\n",
    "plt.title('aLIGO L1 strain data near GW150914')\n",
    "plt.savefig('GW150914_L1_spectrogram.png')\n"
   ]
  },
  {
   "cell_type": "markdown",
   "metadata": {},
   "source": [
    "In the above spectrograms, you can see lots of excess power below ~20 Hz, as well as strong spectral lines at 500, 1000, 1500 Hz (also evident in the ASDs above). The lines at multiples of 500 Hz are the harmonics of the \"violin modes\" of the fibers holding up the mirrors of the LIGO interferometers.\n",
    "\n",
    "The signal is just bately visible here, at time=0 and below 500 Hz. We need to zoom in around the event time, and to the frequency range from [20, 400] Hz, and use the whitened data generated above."
   ]
  },
  {
   "cell_type": "code",
   "execution_count": null,
   "metadata": {
    "collapsed": false
   },
   "outputs": [],
   "source": [
    "#  plot the whitened data, zooming in on the signal region:\n",
    "tevent = 1126259462.422          # Mon Sep 14 09:50:45 GMT 2015 \n",
    "deltat = 10.                      # seconds around the event\n",
    "# index into the strain time series for this time interval:\n",
    "indxt = np.where((time_H1 >= tevent-deltat) & (time_H1 < tevent+deltat))\n",
    "\n",
    "# pick a shorter FTT time interval, like 1/16 of a second:\n",
    "NFFT = fs/16\n",
    "# and with a lot of overlap, to resolve short-time features:\n",
    "NOVL = NFFT*15/16\n",
    "# and choose a window that minimizes \"spectral leakage\" \n",
    "# (https://en.wikipedia.org/wiki/Spectral_leakage)\n",
    "window = np.blackman(NFFT)\n",
    "\n",
    "# Plot the H1 whitened spectrogram around the signal\n",
    "plt.figure()\n",
    "spec_H1, freqs, bins, im = plt.specgram(strain_H1_whiten[indxt], NFFT=NFFT, Fs=fs, window=window, \n",
    "                                        noverlap=NOVL, cmap=spec_cmap, xextent=[-deltat,deltat])\n",
    "plt.xlabel('time (s) since '+str(tevent))\n",
    "plt.ylabel('Frequency (Hz)')\n",
    "plt.colorbar()\n",
    "plt.axis([-0.5, 0.5, 0, 500])\n",
    "plt.title('aLIGO H1 strain data near GW150914')\n",
    "plt.savefig('GW150914_H1_spectrogram_whitened.png')\n",
    "\n",
    "# Plot the L1 whitened spectrogram around the signal\n",
    "plt.figure()\n",
    "spec_H1, freqs, bins, im = plt.specgram(strain_L1_whiten[indxt], NFFT=NFFT, Fs=fs, window=window, \n",
    "                                        noverlap=NOVL, cmap=spec_cmap, xextent=[-deltat,deltat])\n",
    "plt.xlabel('time (s) since '+str(tevent))\n",
    "plt.ylabel('Frequency (Hz)')\n",
    "plt.colorbar()\n",
    "plt.axis([-0.5, 0.5, 0, 500])\n",
    "plt.title('aLIGO L1 strain data near GW150914')\n",
    "plt.savefig('GW150914_L1_spectrogram_whitened.png')\n"
   ]
  },
  {
   "cell_type": "markdown",
   "metadata": {},
   "source": [
    "See the smudge between -0.2 and 0 seconds? That's our signal!\n",
    "You can see it 'chirping' from lower to higher frequency over a small fraction of a second."
   ]
  },
  {
   "cell_type": "markdown",
   "metadata": {},
   "source": [
    "## Time-domain filtering - Bandpassing+notching\n",
    "\n",
    "Now let's filter the signal in the time domain, using bandpassing to reveal the signal in the frequency band [40 , 300 Hz], and notching of spectral lines to remove those noise sources from the data."
   ]
  },
  {
   "cell_type": "code",
   "execution_count": null,
   "metadata": {
    "collapsed": false
   },
   "outputs": [],
   "source": [
    "# generate linear time-domain filter coefficients, common to both H1 and L1.\n",
    "# First, define some functions:\n",
    "\n",
    "# This function will generate digital filter coefficients for bandstops (notches).\n",
    "# Understanding it requires some signal processing expertise, which we won't get into here.\n",
    "def iir_bandstops(fstops, fs, order=4):\n",
    "    \"\"\"ellip notch filter\n",
    "    fstops is a list of entries of the form [frequency (Hz), df, df2]                           \n",
    "    where df is the pass width and df2 is the stop width (narrower                              \n",
    "    than the pass width). Use caution if passing more than one freq at a time,                  \n",
    "    because the filter response might behave in ways you don't expect.\n",
    "    \"\"\"\n",
    "    nyq = 0.5 * fs\n",
    "\n",
    "    # Zeros zd, poles pd, and gain kd for the digital filter\n",
    "    zd = np.array([])\n",
    "    pd = np.array([])\n",
    "    kd = 1\n",
    "\n",
    "    # Notches\n",
    "    for fstopData in fstops:\n",
    "        fstop = fstopData[0]\n",
    "        df = fstopData[1]\n",
    "        df2 = fstopData[2]\n",
    "        low = (fstop - df) / nyq\n",
    "        high = (fstop + df) / nyq\n",
    "        low2 = (fstop - df2) / nyq\n",
    "        high2 = (fstop + df2) / nyq\n",
    "        z, p, k = iirdesign([low,high], [low2,high2], gpass=1, gstop=6,\n",
    "                            ftype='ellip', output='zpk')\n",
    "        zd = np.append(zd,z)\n",
    "        pd = np.append(pd,p)\n",
    "\n",
    "    # Set gain to one at 100 Hz...better not notch there                                        \n",
    "    bPrelim,aPrelim = zpk2tf(zd, pd, 1)\n",
    "    outFreq, outg0 = freqz(bPrelim, aPrelim, 100/nyq)\n",
    "\n",
    "    # Return the numerator and denominator of the digital filter                                \n",
    "    b,a = zpk2tf(zd,pd,k)\n",
    "    return b, a\n",
    "\n",
    "def get_filter_coefs(fs):\n",
    "    \n",
    "    # assemble the filter b,a coefficients:\n",
    "    coefs = []\n",
    "\n",
    "    # bandpass filter parameters\n",
    "    lowcut=43\n",
    "    highcut=260\n",
    "    order = 4\n",
    "\n",
    "    # bandpass filter coefficients \n",
    "    nyq = 0.5*fs\n",
    "    low = lowcut / nyq\n",
    "    high = highcut / nyq\n",
    "    bb, ab = butter(order, [low, high], btype='band')\n",
    "    coefs.append((bb,ab))\n",
    "\n",
    "    # Frequencies of notches at known instrumental spectral line frequencies.\n",
    "    # You can see these lines in the ASD above, so it is straightforward to make this list.\n",
    "    notchesAbsolute = np.array(\n",
    "        [14.0,34.70, 35.30, 35.90, 36.70, 37.30, 40.95, 60.00, \n",
    "         120.00, 179.99, 304.99, 331.49, 510.02, 1009.99])\n",
    "\n",
    "    # notch filter coefficients:\n",
    "    for notchf in notchesAbsolute:                      \n",
    "        bn, an = iir_bandstops(np.array([[notchf,1,0.1]]), fs, order=4)\n",
    "        coefs.append((bn,an))\n",
    "\n",
    "    # Manually do a wider notch filter around 510 Hz etc.          \n",
    "    bn, an = iir_bandstops(np.array([[510,200,20]]), fs, order=4)\n",
    "    coefs.append((bn, an))\n",
    "\n",
    "    # also notch out the forest of lines around 331.5 Hz\n",
    "    bn, an = iir_bandstops(np.array([[331.5,10,1]]), fs, order=4)\n",
    "    coefs.append((bn, an))\n",
    "    \n",
    "    return coefs\n",
    "\n",
    "# and then define the filter function:\n",
    "def filter_data(data_in,coefs):\n",
    "    data = data_in.copy()\n",
    "    for coef in coefs:\n",
    "        b,a = coef\n",
    "        # filtfilt applies a linear filter twice, once forward and once backwards.\n",
    "        # The combined filter has linear phase.\n",
    "        data = filtfilt(b, a, data)\n",
    "    return data\n"
   ]
  },
  {
   "cell_type": "markdown",
   "metadata": {},
   "source": [
    "To visualize the effect of this filter, let's generate \"white\" gaussian noise, and filter it."
   ]
  },
  {
   "cell_type": "code",
   "execution_count": null,
   "metadata": {
    "collapsed": false
   },
   "outputs": [],
   "source": [
    "# get filter coefficients\n",
    "coefs = get_filter_coefs(fs)\n",
    "\n",
    "# generate random gaussian \"data\"\n",
    "data = np.random.randn(128*fs)\n",
    "\n",
    "# filter it:\n",
    "resp = filter_data(data,coefs)\n",
    "\n",
    "# compute the amplitude spectral density (ASD) of the original data, and the filtered data:\n",
    "NFFT = fs/2\n",
    "Pxx_data, freqs = mlab.psd(data, Fs = fs, NFFT = NFFT)\n",
    "Pxx_resp, freqs = mlab.psd(resp, Fs = fs, NFFT = NFFT)\n",
    "\n",
    "# The asd is the square root; and let's normalize it to 1:\n",
    "norm = np.sqrt(Pxx_data).mean()\n",
    "asd_data = np.sqrt(Pxx_data)/norm\n",
    "asd_resp = np.sqrt(Pxx_resp)/norm\n",
    "\n",
    "# get the predicted filter frequency response using signal.freqz:\n",
    "Nc = 2000\n",
    "filt_resp = np.ones(Nc)\n",
    "for coef in coefs:\n",
    "    b,a = coef\n",
    "    w,r = signal.freqz(b,a,worN=Nc)\n",
    "    filt_resp = filt_resp*np.abs(r)\n",
    "freqf = (fs * 0.5 / np.pi) * w\n",
    "# We \"double pass\" the filtering using filtfilt, so we square the filter response\n",
    "filt_resp = filt_resp**2\n",
    "\n",
    "# plot the ASDs\n",
    "plt.figure()\n",
    "plt.plot(freqs,  asd_data,'b',label='white noise')\n",
    "plt.plot(freqs,  asd_resp,'m',label='filtered white noise')\n",
    "plt.plot(freqf, filt_resp,'k--',label='filter response')\n",
    "plt.xlim([0,600])\n",
    "plt.grid('on')\n",
    "plt.ylabel('ASD (strain/rtHz)')\n",
    "plt.xlabel('Freq (Hz)')\n",
    "plt.legend(loc='center right')\n",
    "plt.savefig('GW150914_filter.png')"
   ]
  },
  {
   "cell_type": "markdown",
   "metadata": {},
   "source": [
    "From the above, you can see that the gaussian noise (blue) is \"white\" - it is flat in frequency (all the way up to Nyquist frequency of 2048 Hz, but we'lve cut it off at 600 Hz to see the effect of filtering). You can see in the filtered data (magenta) the effects of the bandpassing and the notches.\n",
    "\n",
    "Now let's filter the data, and plot the results:"
   ]
  },
  {
   "cell_type": "code",
   "execution_count": null,
   "metadata": {
    "collapsed": false
   },
   "outputs": [],
   "source": [
    "# filter the data:\n",
    "strain_H1_filt = filter_data(strain_H1, coefs)\n",
    "strain_L1_filt = filter_data(strain_L1, coefs)\n",
    "\n",
    "# filter NR template as we do with the data:\n",
    "NR_H1_filt = filter_data(NR_H1, coefs)\n",
    "\n",
    "# plot the data prior to filtering:\n",
    "plt.figure()\n",
    "plt.plot(time-tevent,strain_H1,'r',label='H1 strain')\n",
    "plt.plot(time-tevent,strain_L1,'g',label='L1 strain')\n",
    "plt.xlim([-0.2,0.1])\n",
    "plt.xlabel('time (s) since '+str(tevent))\n",
    "plt.ylabel('strain')\n",
    "plt.legend(loc='lower right')\n",
    "plt.title('aLIGO strain data near GW150914')\n",
    "plt.savefig('GW150914_H1_strain_unfiltered.png')\n",
    "\n",
    "# plot the data after filtering:\n",
    "# first, shift L1 by 7 ms, and invert. See the GW150914 detection paper for why!\n",
    "strain_L1_fils = -np.roll(strain_L1_filt,int(0.007*fs))\n",
    "# We also have to shift the NR template by 2 ms to get it to line up properly with the data\n",
    "plt.figure()\n",
    "plt.plot(time-tevent,strain_H1_filt,'r',label='H1 strain')\n",
    "plt.plot(time-tevent,strain_L1_fils,'g',label='L1 strain')\n",
    "plt.plot(NRtime+0.002,NR_H1_filt,'k',label='matched NR waveform')\n",
    "plt.xlim([-0.2,0.1])\n",
    "plt.ylim([-1.5e-21,1.5e-21])\n",
    "plt.xlabel('time (s) since '+str(tevent))\n",
    "plt.ylabel('strain')\n",
    "plt.legend(loc='lower left')\n",
    "plt.title('aLIGO FILTERED strain data near GW150914')\n",
    "plt.savefig('GW150914_H1_strain_filtered.png')"
   ]
  },
  {
   "cell_type": "markdown",
   "metadata": {},
   "source": [
    "The filtered data peak at around 1.e-21, 1000 times smaller than the scale in the first plot. The \"DC\" offset between H1 and L1 data visible in the first plot is no longer visible here; the bandpassing cuts off frequency components below around 40 Hz. \n",
    "\n",
    "Now, as with whitening, the signal is visible as an oscillation sweeping from low to high frequency from -0.10 seconds to 0, then damping down into the random noise. Again, it looks roughly the same in both detectors, after shifting and flipping the L1 data with respect to H1. It's exactly the kind of signal we expect from the inspiral, merger and ringdown of two massive black holes.\n",
    "\n",
    "And as with whitening, the NR waveform looks, by eye, to be a good match to the data in both detectors; the signal is consistent with the waveform predicted from General Relativity."
   ]
  },
  {
   "cell_type": "markdown",
   "metadata": {},
   "source": [
    "## Make sound files\n",
    "\n",
    "Make wav (sound) files from the filtered, downsampled data, +-2s around the event."
   ]
  },
  {
   "cell_type": "code",
   "execution_count": null,
   "metadata": {
    "collapsed": false
   },
   "outputs": [],
   "source": [
    "# make wav (sound) files from the whitened data, +-2s around the event.\n",
    "\n",
    "from scipy.io import wavfile\n",
    "\n",
    "# function to keep the data within integer limits, and write to wavfile:\n",
    "def write_wavfile(filename,fs,data):\n",
    "    d = np.int16(data/np.max(np.abs(data)) * 32767 * 0.9)\n",
    "    wavfile.write(filename,int(fs), d)\n",
    "\n",
    "tevent = 1126259462.422         # Mon Sep 14 09:50:45 GMT 2015 \n",
    "deltat = 2.                     # seconds around the event\n",
    "\n",
    "# index into the strain time series for this time interval:\n",
    "indxt = np.where((time >= tevent-deltat) & (time < tevent+deltat))\n",
    "\n",
    "# write the files:\n",
    "write_wavfile(\"GW150914_H1_whitenbp.wav\",int(fs), strain_H1_whitenbp[indxt])\n",
    "write_wavfile(\"GW150914_L1_whitenbp.wav\",int(fs), strain_L1_whitenbp[indxt])\n",
    "write_wavfile(\"GW150914_NR_whitenbp.wav\",int(fs), NR_H1_whitenbp)\n"
   ]
  },
  {
   "cell_type": "markdown",
   "metadata": {},
   "source": [
    "With good headphones, you'll hear a faint thump in the middle.\n",
    "\n",
    "We can enhance this by increasing the frequency; \n",
    "this is the \"audio\" equivalent of the enhanced visuals that NASA employs on telescope images with \"false color\".\n",
    "\n",
    "The code below will shift the data up by 400 Hz (by taking an FFT, shifting/rolling the frequency series, then inverse fft-ing). The resulting sound file will be noticibly more high-pitched, and the signal will be easier to hear."
   ]
  },
  {
   "cell_type": "code",
   "execution_count": null,
   "metadata": {
    "collapsed": false
   },
   "outputs": [],
   "source": [
    "# function that shifts frequency of a band-passed signal\n",
    "def reqshift(data,fshift=100,sample_rate=4096):\n",
    "    \"\"\"Frequency shift the signal by constant\n",
    "    \"\"\"\n",
    "    x = np.fft.rfft(data)\n",
    "    T = len(data)/float(sample_rate)\n",
    "    df = 1.0/T\n",
    "    nbins = int(fshift/df)\n",
    "    # print T,df,nbins,x.real.shape\n",
    "    y = np.roll(x.real,nbins) + 1j*np.roll(x.imag,nbins)\n",
    "    z = np.fft.irfft(y)\n",
    "    return z\n",
    "\n",
    "# parameters for frequency shift\n",
    "fs = 4096\n",
    "fshift = 400.\n",
    "speedup = 1.\n",
    "fss = int(float(fs)*float(speedup))\n",
    "\n",
    "# shift frequency of the data\n",
    "strain_H1_shifted = reqshift(strain_H1_whitenbp,fshift=fshift,sample_rate=fs)\n",
    "strain_L1_shifted = reqshift(strain_L1_whitenbp,fshift=fshift,sample_rate=fs)\n",
    "NR_H1_shifted = reqshift(NR_H1_whitenbp,fshift=fshift,sample_rate=fs)\n",
    "\n",
    "# write the files:\n",
    "write_wavfile(\"GW150914_H1_shifted.wav\",int(fs), strain_H1_shifted[indxt])\n",
    "write_wavfile(\"GW150914_L1_shifted.wav\",int(fs), strain_L1_shifted[indxt])\n",
    "write_wavfile(\"GW150914_NR_shifted.wav\",int(fs), NR_H1_shifted)\n"
   ]
  },
  {
   "cell_type": "markdown",
   "metadata": {},
   "source": [
    "## Downsampling from 16384 Hz to 4096 Hz\n",
    "\n",
    "So far, we have been working with data sampled at fs=4096 Hz. This is entirely sufficient for signals with no frequency content above f_Nyquist = fs/2 = 2048 Hz, such as GW150914. \n",
    "\n",
    "We downsample to 4096 Hz to save on download time, disk space, and memory requirements. If, however, you are interested in signals with frequency content above 2048 Hz, you need the data sampled at the full rate of 16384 Hz. \n",
    "\n",
    "Here we demonstrate how to do that downsampling, and how it might limit you is you are interested in frequency content near 2048 Hz and above.\n",
    "\n",
    "First, download a LOSC data file containing 32 seconds of data at the full 16384 Hz rate, and another downsampled at 4096 Hs, and put them in your working directory / folder:\n",
    "* https://losc.ligo.org/s/events/GW150914/H-H1_LOSC_16_V1-1126259446-32.hdf5\n",
    "* https://losc.ligo.org/s/events/GW150914/H-H1_LOSC_4_V1-1126259446-32.hdf5"
   ]
  },
  {
   "cell_type": "code",
   "execution_count": null,
   "metadata": {
    "collapsed": false
   },
   "outputs": [],
   "source": [
    "# read in the data at 16384 Hz and at 4096 Hz:\n",
    "fn_16 = 'H-H1_LOSC_16_V1-1126259446-32.hdf5'\n",
    "strain_16, time_16, chan_dict = rl.loaddata(fn_16, 'H1')\n",
    "fn_4 = 'H-H1_LOSC_4_V1-1126259446-32.hdf5'\n",
    "strain_4, time_4, chan_dict = rl.loaddata(fn_4, 'H1')\n",
    "\n",
    "# Make PSDs of each:\n",
    "fs = 16384\n",
    "NFFT = 1*fs\n",
    "Pxx_16, freqs_16 = mlab.psd(strain_16, Fs = fs, NFFT = NFFT)\n",
    "\n",
    "fs = 4096\n",
    "NFFT = 1*fs\n",
    "Pxx_4, freqs_4 = mlab.psd(strain_4, Fs = fs, NFFT = NFFT)\n",
    "\n",
    "fmin = 10\n",
    "fmax = 8192\n",
    "\n",
    "plt.figure()\n",
    "plt.loglog(freqs_16, np.sqrt(Pxx_16),'b',label='strain at 16384')\n",
    "plt.loglog(freqs_4,  np.sqrt(Pxx_4), 'm',label='strain at  4096')\n",
    "plt.axis([fmin, fmax, 1e-24, 1e-19])\n",
    "plt.grid('on')\n",
    "plt.ylabel('ASD (strain/rtHz)')\n",
    "plt.xlabel('Freq (Hz)')\n",
    "plt.legend(loc='upper center')\n",
    "plt.title('Advanced LIGO strain data near GW150914')\n",
    "plt.savefig('GW150914_H1_ASD_16384.png')\n"
   ]
  },
  {
   "cell_type": "markdown",
   "metadata": {},
   "source": [
    "Good agreement between 16384 Hz data and 4096 Hz data,\n",
    "up to around f_Nyquist = 2048 Hz. Let's zoom in for a closer look:"
   ]
  },
  {
   "cell_type": "code",
   "execution_count": null,
   "metadata": {
    "collapsed": false
   },
   "outputs": [],
   "source": [
    "# Zoom in on the 1000-2000 Hz region:\n",
    "fmin = 1500\n",
    "fmax = 2100\n",
    "\n",
    "plt.figure()\n",
    "plt.plot(freqs_16, np.sqrt(Pxx_16),'b',label='strain at 16384')\n",
    "plt.plot(freqs_4,  np.sqrt(Pxx_4), 'm',label='strain at  4096')\n",
    "plt.axis([fmin, fmax, 1e-23, 5e-23])\n",
    "plt.grid('on')\n",
    "plt.ylabel('ASD (strain/rtHz)')\n",
    "plt.xlabel('Freq (Hz)')\n",
    "plt.legend(loc='upper center')\n",
    "plt.title('Advanced LIGO strain data near GW150914')\n",
    "plt.savefig('GW150914_H1_ASD_16384_zoom.png')\n"
   ]
  },
  {
   "cell_type": "markdown",
   "metadata": {},
   "source": [
    "The downsampled data deviate significantly from the original above ~1700 Hz. This is an undesirable, but inevitable result of downsampling (decimating). The plus side is that for frequencies less than 80% of Nyquist, the data are faithfully reproduced.\n",
    "\n",
    "If frequency content above that point is important to you, you need to use the 16384 Hz data.\n",
    "\n",
    "Else, you can save download time, disk space and memory by using the 4096 Hz data."
   ]
  },
  {
   "cell_type": "code",
   "execution_count": null,
   "metadata": {
    "collapsed": false
   },
   "outputs": [],
   "source": [
    "# Now downsample the 16384 Hz data and compare with the 4096 Hz data\n",
    "\n",
    "factor = 4\n",
    "numtaps = 61\n",
    "strain_4new = signal.decimate(strain_16, factor, numtaps-1,ftype='fir')\n",
    "\n",
    "fs = 4096\n",
    "NFFT = 1*fs\n",
    "Pxx_4new, freqs_4 = mlab.psd(strain_4new, Fs = fs, NFFT = NFFT)\n",
    "\n",
    "fmin = 1500\n",
    "fmax = 2100\n",
    "\n",
    "plt.figure()\n",
    "plt.plot(freqs_4, np.sqrt(Pxx_4new),'b',label='strain at 4096 from decimate')\n",
    "plt.plot(freqs_4,  np.sqrt(Pxx_4), 'm--',label='strain at 4096 from file')\n",
    "plt.axis([fmin, fmax, 1e-23, 5e-23])\n",
    "plt.grid('on')\n",
    "plt.ylabel('ASD (strain/rtHz)')\n",
    "plt.xlabel('Freq (Hz)')\n",
    "plt.legend(loc='upper left')\n",
    "plt.title('Advanced LIGO strain data near GW150914')\n",
    "plt.savefig('GW150914_H1_ASD_4096_zoom.png')\n"
   ]
  },
  {
   "cell_type": "markdown",
   "metadata": {},
   "source": [
    "The two traces are on top of each other, as expected. That's how we made the downsampled data in the first place."
   ]
  },
  {
   "cell_type": "markdown",
   "metadata": {},
   "source": [
    "From the above, we learn exactly how LOSC downsamples the strain time series from 16384 Hz to 4096 Hz \n",
    "(ie, using scipy.decimate), and that if you are interested in frequency content above ~ 1700 Hz,\n",
    "use the 16384 Hz sample rate data instead."
   ]
  },
  {
   "cell_type": "markdown",
   "metadata": {},
   "source": [
    "## Data segments\n",
    "\n",
    "As mentioned above, LIGO strain time series data has gaps (filled with NaNs) when the detectors are not taking valid (\"science quality\") data. Analyzing these data requires the user to loop over \"segments\" of valid data stretches.\n",
    "\n",
    "For this GW150914 data release, the data have no gaps. Let's verify this, using the L1 data file containing 32 seconds of data sampled at 4096 Hz.\n",
    "\n",
    "You are welcome to repeat this with H1 data, with files containing 4096 seconds of data, and with data sampled at 16384 Hz. All of the relevant files are listed near the top of this tutorial."
   ]
  },
  {
   "cell_type": "code",
   "execution_count": null,
   "metadata": {
    "collapsed": false
   },
   "outputs": [],
   "source": [
    "# read in the data at 4096 Hz:\n",
    "fn = 'L-L1_LOSC_4_V1-1126259446-32.hdf5'\n",
    "strain, time, chan_dict = rl.loaddata(fn, 'H1')\n",
    "\n",
    "print \"Contents of all the key, value pairs in chan_dict\"\n",
    "for keys,values in chan_dict.items():\n",
    "    print(keys)\n",
    "    print(values)\n",
    "\n",
    "print \"We see that all keys have 32 seconds of '1', meaning the data pass all data quality flags\"\n",
    "print \"and have no HW injections, except there are CW injections in L1.\"\n",
    "print \" \"\n",
    "print 'Total number of non-NaNs in these data = ',np.sum(~np.isnan(strain))\n",
    "print 'GPS start, GPS stop and length of  all data in this file = ',time[0], time[-1],len(strain)\n",
    "\n",
    "# select the level of data quality; default is \"DATA\" but \"CBC_CAT3\" is a conservative choice:\n",
    "DQflag = 'CBC_CAT3'\n",
    "# readligo.py method for computing segments (start and stop times with continuous valid data):\n",
    "segment_list = rl.dq_channel_to_seglist(chan_dict[DQflag])\n",
    "print 'Number of segments with DQflag',DQflag,' = ',len(segment_list)\n",
    "\n",
    "# loop over seconds and print out start, stop and length:\n",
    "iseg = 0\n",
    "for segment in segment_list:\n",
    "    time_seg = time[segment]\n",
    "    seg_strain = strain[segment]\n",
    "    print 'GPS start, GPS stop and length of segment',iseg, \\\n",
    "        'in this file = ',time_seg[0], time_seg[-1], len(seg_strain)\n",
    "    iseg = iseg+1\n",
    "    # here is where you would insert code to analyze the data in this segment.\n",
    "    \n",
    "# now look at segments with no CBC hardware injections:\n",
    "DQflag = 'NO_CBC_HW_INJ'\n",
    "segment_list = rl.dq_channel_to_seglist(chan_dict['NO_CBC_HW_INJ'])\n",
    "print 'Number of segments with DQflag',DQflag,' = ',len(segment_list)\n",
    "iseg = 0\n",
    "for segment in segment_list:\n",
    "    time_seg = time[segment]\n",
    "    seg_strain = strain[segment]\n",
    "    print 'GPS start, GPS stop and length of segment',iseg, \\\n",
    "        'in this file = ',time_seg[0], time_seg[-1], len(seg_strain)\n",
    "    iseg = iseg+1\n"
   ]
  }
 ],
 "metadata": {
  "kernelspec": {
   "display_name": "Python 2",
   "language": "python",
   "name": "python2"
  },
  "language_info": {
   "codemirror_mode": {
    "name": "ipython",
    "version": 2
   },
   "file_extension": ".py",
   "mimetype": "text/x-python",
   "name": "python",
   "nbconvert_exporter": "python",
   "pygments_lexer": "ipython2",
   "version": "2.7.11"
  }
 },
 "nbformat": 4,
 "nbformat_minor": 0
}
